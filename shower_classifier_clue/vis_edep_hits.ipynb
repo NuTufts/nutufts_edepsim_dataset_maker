{
 "cells": [
  {
   "cell_type": "markdown",
   "id": "536f914b",
   "metadata": {},
   "source": [
    "# Visualization EDepSim Hits\n",
    "\n",
    "This notebook is used to demonstrate visualatioin tools and functionality.\n",
    "\n",
    "To run this, you need the following:\n",
    "  * (pre-pre-req) make sure the run `source setenv_py3.sh` or else environment variables and such are missing\n",
    "  * run the simulation once and create the channel info file, `chmap.json`\n",
    "  * run the simulation once and create an output file\n",
    "  \n",
    "The visualization tools utilize the python library [plotly](https://plotly.com/python/) and [plotly.go](https://plotly.com/python/graph-objects/).\n",
    "\n",
    "You will need to install this\n",
    "\n",
    "    pip3 install plotly\n",
    "    \n",
    "Other pre-req is `numpy`\n",
    "\n",
    "    pip3 install numpy\n",
    "    \n"
   ]
  },
  {
   "cell_type": "code",
   "execution_count": null,
   "id": "122609b6",
   "metadata": {},
   "outputs": [],
   "source": [
    "# Import the modules we'll use\n",
    "import sys,os\n",
    "edeptly_path = os.environ['EDEPTLY_DIR']\n",
    "if edeptly_path not in sys.path:\n",
    "    if os.path.exists(edeptly_path):\n",
    "        print(\"Adding edeptly path: \",edeptly_path)\n",
    "        sys.path.insert( 0, edeptly_path )\n",
    "    else:\n",
    "        print(\"Warning did not find edeptly path: \",edeptly_path)\n",
    "import edeptly\n",
    "import ROOT as rt\n",
    "\n",
    "import plotly\n",
    "import plotly.graph_objects as go\n",
    "import numpy as np\n",
    "%load_ext autoreload\n",
    "%autoreload 2"
   ]
  },
  {
   "cell_type": "code",
   "execution_count": null,
   "id": "b0f03c1f",
   "metadata": {},
   "outputs": [],
   "source": [
    "import cennsly.read_channel_json \n",
    "from cennsly.read_channel_json import read_channel_json\n",
    "j = read_channel_json( \"chmap.json\" ) # run the sim first to get this file"
   ]
  },
  {
   "cell_type": "markdown",
   "id": "acc217f5",
   "metadata": {},
   "source": [
    "The channel json file holds information that let's us draw different channel shapes.  Right now circle and square shapes are defined. The initial intention is to represent PMTs with circles and SiPMs with squares. (Though this is programmable by you in the different channel sdconfigs.)"
   ]
  },
  {
   "cell_type": "code",
   "execution_count": null,
   "id": "9a7956c1",
   "metadata": {},
   "outputs": [],
   "source": [
    "# Draw an example circle\n",
    "\n",
    "import cennsly\n",
    "from cennsly.draw_channels import gen_circle_mesh_channel\n",
    "\n",
    "# find a circle channel\n",
    "circle_ch = None\n",
    "for ch in j[\"channeldata\"]:\n",
    "    if j[\"channeldata\"][ch][\"shape\"]==\"circle\":\n",
    "        circle_ch = int(ch)\n",
    "        break\n",
    "        \n",
    "if circle_ch is not None:\n",
    "    # if we found one, draw it\n",
    "    # we choose a channel number and send the channel information\n",
    "    #   and get back a 3D triangle mesh to plot\n",
    "    vertices,faces = gen_circle_mesh_channel( circle_ch, j )\n",
    "    print(\"printing channel ID=\",circle_ch)\n",
    "    print(\"vertex array shape: \",vertices.shape)\n",
    "    print(\"face array shape: \",faces.shape)\n",
    "    meshplot = go.Mesh3d(x=vertices[:,0],y=vertices[:,1],z=vertices[:,2],\n",
    "                         i=faces[:,0],j=faces[:,1],k=faces[:,2],\n",
    "                        color='red',\n",
    "                        opacity=0.5)\n",
    "    fig = go.Figure(data=meshplot)\n",
    "    fig.show()\n",
    "else:\n",
    "    print(\"No circle channels defined.\")"
   ]
  },
  {
   "cell_type": "code",
   "execution_count": null,
   "id": "ea0ec4a7",
   "metadata": {},
   "outputs": [],
   "source": [
    "# Draw an example square\n",
    "\n",
    "import cennsly\n",
    "from cennsly.draw_channels import gen_square_mesh_channel\n",
    "\n",
    "# find a circle channel\n",
    "sq_ch = None\n",
    "for ch in j[\"channeldata\"]:\n",
    "    if j[\"channeldata\"][ch][\"shape\"]==\"square\":\n",
    "        sq_ch = int(ch)\n",
    "        break\n",
    "        \n",
    "if sq_ch is not None:\n",
    "    # if we found one, draw it\n",
    "    # we choose a channel number and send the channel information\n",
    "    #   and get back a 3D triangle mesh to plot\n",
    "    vertices,faces = gen_square_mesh_channel( sq_ch, j )\n",
    "    print(\"printing channel ID=\",sq_ch)\n",
    "    print(vertices.shape)\n",
    "    print(faces.shape)\n",
    "    #print(vertices)\n",
    "    #print(faces)\n",
    "    meshplot_square = go.Mesh3d(x=vertices[:,0],y=vertices[:,1],z=vertices[:,2],\n",
    "                                i=faces[:,0],j=faces[:,1],k=faces[:,2],\n",
    "                                color='red', opacity=0.5)\n",
    "    fig = go.Figure(data=meshplot_square)\n",
    "    fig.show()\n",
    "else:\n",
    "    print(\"No square channels defined.\")"
   ]
  },
  {
   "cell_type": "markdown",
   "id": "0bb06231",
   "metadata": {},
   "source": [
    "# Adding data\n",
    "\n",
    "You'll need the output of the simulation."
   ]
  },
  {
   "cell_type": "code",
   "execution_count": null,
   "id": "2ba3a9d9",
   "metadata": {},
   "outputs": [],
   "source": [
    "# Open file\n",
    "input_file = \"test.root\"\n",
    "rinput = rt.TFile(input_file)\n",
    "\n",
    "# Get the TTree where we've stored all the data\n",
    "edeptree = rinput.Get(\"EDepSimEvents\")\n",
    "\n",
    "# Get the number of entries\n",
    "nentries = edeptree.GetEntries()\n",
    "print(\"Entries in sim file: \",nentries)"
   ]
  },
  {
   "cell_type": "code",
   "execution_count": null,
   "id": "2a4d2df4",
   "metadata": {},
   "outputs": [],
   "source": [
    "# Plot one event\n",
    "\n",
    "edeptree.GetEntry(0)\n",
    "event = edeptree.Event\n",
    "detnames = edeptree.Event.GetSegmentDetectorNameList()\n",
    "print(\"number of detnames: \",detnames.size())\n",
    "for idet in range(detnames.size()):\n",
    "    detname = detnames.at(idet)\n",
    "    seghits_v = edeptree.Event.SegmentDetectors[detname]\n",
    "    print(\"  Number of energy deposit in [\",detname,\"]: \",seghits_v.size())\n",
    "\n",
    "#print(\"Number of energy deposit segments: \",nhits)\n"
   ]
  },
  {
   "cell_type": "code",
   "execution_count": null,
   "id": "260b2dad",
   "metadata": {},
   "outputs": [],
   "source": [
    "import edeptly\n",
    "from edeptly import draw_edepsim_points\n",
    "hits = draw_edepsim_points( event )\n",
    "\n",
    "fig1 = go.Figure(data=hits)\n",
    "fig1.show()\n"
   ]
  },
  {
   "cell_type": "markdown",
   "id": "f05319e1",
   "metadata": {},
   "source": [
    "## MC Truth in the output files\n",
    "\n",
    "The Edep-sim machinery absorbed also stores primary particles and true particle trajectories from Geant."
   ]
  },
  {
   "cell_type": "code",
   "execution_count": null,
   "id": "40e2c5fc",
   "metadata": {},
   "outputs": [],
   "source": [
    "# Primaries: these are the particles given to geant4 to simulate\n",
    "\n",
    "# e.g. the particle from single particle generators\n",
    "# e.g. the final state particles from MARLEY\n",
    "# e.g. the nuclear recoil from CEVENS generator\n",
    "\n",
    "# Get the class holding truth energy deposit information\n",
    "edeptree = rinput.Get(\"EDepSimEvents\")\n",
    "\n",
    "# Read an entry in the tree\n",
    "edeptree.GetEntry(0)\n",
    "\n",
    "nprimaries = edeptree.Event.Primaries.size()\n",
    "print(\"Number of primaries: \",nprimaries)\n",
    "\n",
    "for i in range(nprimaries):\n",
    "    primary = edeptree.Event.Primaries.at(i)\n",
    "    print(\"Primary Vertex [\",i,\"] //////////////  \")\n",
    "    print(\" Generator Name: \", primary.GeneratorName )\n",
    "    print(\" Reaction Name: \", primary.Reaction )\n",
    "    print(\" == particle-list =======\")\n",
    "    nparts = primary.Particles.size()\n",
    "    for p in range(nparts):\n",
    "        part = primary.Particles.at(p)\n",
    "        mom = part.GetMomentum()\n",
    "        print(\"    [\",p,\"]: PDG=\",part.GetPDGCode(),\n",
    "              \" TrackId=\",part.GetTrackId(),\n",
    "             \" P=(%.2f,%.2f,%.2f,%.2f)\"%(mom[0],mom[1],mom[2],mom[3]))\n"
   ]
  },
  {
   "cell_type": "code",
   "execution_count": null,
   "id": "2d44a028",
   "metadata": {},
   "outputs": [],
   "source": [
    "# Trajectories\n",
    "\n",
    "ntrajs = edeptree.Event.Trajectories.size()\n",
    "print(\"Number of trajectories: \",ntrajs)\n",
    "\n",
    "print(\"/// Trajectories ////////\")\n",
    "for t in range(ntrajs):\n",
    "    traj = edeptree.Event.Trajectories.at(t)\n",
    "    print(\"  [\",t,\"] pdg=\",traj.GetPDGCode(),\n",
    "          \" NPts=\",traj.Points.size(),\n",
    "          \" TrackId=\",traj.GetTrackId(),\n",
    "          \" ParentId=\",traj.GetParentId())\n",
    "    "
   ]
  },
  {
   "cell_type": "code",
   "execution_count": null,
   "id": "34cb44ef",
   "metadata": {},
   "outputs": [],
   "source": [
    "# Add these to the plots above\n",
    "import cennsly\n",
    "from cennsly.draw_edepsim_trajectories import draw_edepsim_event_trajectories\n",
    "\n",
    "track_v = draw_edepsim_event_trajectories(edeptree.Event)\n",
    "# Note: looks like we need refinements on saving trajectory steps\n",
    "print(\"number of trajector plots: \",len(track_v))\n",
    "\n",
    "for p in track_v:\n",
    "    p[\"line\"][\"width\"]=3.0\n",
    "    \n",
    "plot_track = circle_plots+[seg_plot]+track_v+cylinder_plot\n",
    "#plot_track += square_plots_culled # if we have sipms\n",
    "\n",
    "\n",
    "figseg1 = go.Figure(data=plot_track)\n",
    "figseg1.update_layout(width=1000,height=600)\n",
    "figseg1.show() "
   ]
  },
  {
   "cell_type": "code",
   "execution_count": null,
   "id": "500eb316",
   "metadata": {},
   "outputs": [],
   "source": []
  },
  {
   "cell_type": "code",
   "execution_count": null,
   "id": "01192b0f",
   "metadata": {},
   "outputs": [],
   "source": []
  }
 ],
 "metadata": {
  "kernelspec": {
   "display_name": "Python 3 (ipykernel)",
   "language": "python",
   "name": "python3"
  },
  "language_info": {
   "codemirror_mode": {
    "name": "ipython",
    "version": 3
   },
   "file_extension": ".py",
   "mimetype": "text/x-python",
   "name": "python",
   "nbconvert_exporter": "python",
   "pygments_lexer": "ipython3",
   "version": "3.9.7"
  }
 },
 "nbformat": 4,
 "nbformat_minor": 5
}
